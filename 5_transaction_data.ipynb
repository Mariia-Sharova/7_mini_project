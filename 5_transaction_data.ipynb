{
 "cells": [
  {
   "cell_type": "markdown",
   "id": "7e7360bf",
   "metadata": {
    "toc": true
   },
   "source": [
    "<h1>Table of Contents<span class=\"tocSkip\"></span></h1>\n",
    "<div class=\"toc\"><ul class=\"toc-item\"></ul></div>"
   ]
  },
  {
   "cell_type": "code",
   "execution_count": 1,
   "id": "7971cad1",
   "metadata": {},
   "outputs": [],
   "source": [
    "import pandas as pd\n",
    "import seaborn as sns\n",
    "import matplotlib.pyplot as plt"
   ]
  },
  {
   "cell_type": "code",
   "execution_count": 2,
   "id": "3467ace2",
   "metadata": {},
   "outputs": [],
   "source": [
    "# Задачи\n",
    "\n",
    "# Загрузите датасет transaction_data.csv.\n",
    "# Проверьте размер таблицы, типы переменных, число пропущенных значений и описательную статистику.\n",
    "\n",
    "# Какие значения находятся в колонке transaction? Сколько наблюдений относятся к тому или иному уровню?\n",
    "# Визуализируйте результат с помощью барплота. Подумайте, как можно улучшить график.\n",
    "\n",
    "# Сколько транзакций завершились ошибкой?\n",
    "# Сколько успешных транзакций осуществил каждый из пользователей? Постройте гистограмму распределения числа успешных транзакций.\n",
    "\n",
    "# Коллега прислал Вам обновленные данные.\n",
    "# Постройте сводную таблицу user_vs_minute_pivot,\n",
    "# где в качестве столбцов будут использованы имена пользователей, строк – минуты, значений – число совершенных операций\n",
    "# в указанную минуту.\n",
    "# Пропущенные значения заполните нулями.\n",
    "\n",
    "# Исправьте ошибку коллеги (если она есть 😉), и посчитайте число минут, прошедших с начала дня.\n",
    "# Результат сохраните в колонку true_minute.\n",
    "# Постройте график, как в предыдущем шаге, и посмотрите, произошли ли изменения (график в код включать не нужно).\n",
    "\n",
    "\n",
    "\n",
    "# Описание данных\n",
    "\n",
    "# date – дата (2020-03-02 00:00:00 – 2020-03-02 01:29:05)\n",
    "# name – имя пользователя\n",
    "# transaction – статус транзакции\n",
    "# minute* – сколько минут прошло с начала дня"
   ]
  },
  {
   "cell_type": "code",
   "execution_count": 3,
   "id": "73ad32dd",
   "metadata": {},
   "outputs": [
    {
     "data": {
      "text/html": [
       "<div>\n",
       "<style scoped>\n",
       "    .dataframe tbody tr th:only-of-type {\n",
       "        vertical-align: middle;\n",
       "    }\n",
       "\n",
       "    .dataframe tbody tr th {\n",
       "        vertical-align: top;\n",
       "    }\n",
       "\n",
       "    .dataframe thead th {\n",
       "        text-align: right;\n",
       "    }\n",
       "</style>\n",
       "<table border=\"1\" class=\"dataframe\">\n",
       "  <thead>\n",
       "    <tr style=\"text-align: right;\">\n",
       "      <th></th>\n",
       "      <th>date</th>\n",
       "      <th>name</th>\n",
       "      <th>transaction</th>\n",
       "    </tr>\n",
       "  </thead>\n",
       "  <tbody>\n",
       "    <tr>\n",
       "      <th>0</th>\n",
       "      <td>2020-03-02 00:37:20</td>\n",
       "      <td>Ekaterina_Petrova</td>\n",
       "      <td>cancelled</td>\n",
       "    </tr>\n",
       "    <tr>\n",
       "      <th>1</th>\n",
       "      <td>2020-03-02 00:59:09</td>\n",
       "      <td>Irina_Fedorova</td>\n",
       "      <td>successfull</td>\n",
       "    </tr>\n",
       "    <tr>\n",
       "      <th>2</th>\n",
       "      <td>2020-03-02 01:06:14</td>\n",
       "      <td>Ekaterina_Smirnova</td>\n",
       "      <td>successfull</td>\n",
       "    </tr>\n",
       "    <tr>\n",
       "      <th>3</th>\n",
       "      <td>2020-03-02 00:02:58</td>\n",
       "      <td>Lolita_Polyanova</td>\n",
       "      <td>cancelled</td>\n",
       "    </tr>\n",
       "    <tr>\n",
       "      <th>4</th>\n",
       "      <td>2020-03-02 00:17:52</td>\n",
       "      <td>Julia_Smirnova</td>\n",
       "      <td>cancelled</td>\n",
       "    </tr>\n",
       "  </tbody>\n",
       "</table>\n",
       "</div>"
      ],
      "text/plain": [
       "                  date                name  transaction\n",
       "0  2020-03-02 00:37:20   Ekaterina_Petrova    cancelled\n",
       "1  2020-03-02 00:59:09      Irina_Fedorova  successfull\n",
       "2  2020-03-02 01:06:14  Ekaterina_Smirnova  successfull\n",
       "3  2020-03-02 00:02:58    Lolita_Polyanova    cancelled\n",
       "4  2020-03-02 00:17:52      Julia_Smirnova    cancelled"
      ]
     },
     "execution_count": 3,
     "metadata": {},
     "output_type": "execute_result"
    }
   ],
   "source": [
    "data = pd.read_csv('transaction_data.csv')\n",
    "data.head()"
   ]
  },
  {
   "cell_type": "code",
   "execution_count": 4,
   "id": "4c7dbae5",
   "metadata": {},
   "outputs": [
    {
     "data": {
      "text/plain": [
       "(5315, 3)"
      ]
     },
     "execution_count": 4,
     "metadata": {},
     "output_type": "execute_result"
    }
   ],
   "source": [
    "data.shape"
   ]
  },
  {
   "cell_type": "code",
   "execution_count": 5,
   "id": "5c06c75e",
   "metadata": {},
   "outputs": [
    {
     "name": "stdout",
     "output_type": "stream",
     "text": [
      "<class 'pandas.core.frame.DataFrame'>\n",
      "RangeIndex: 5315 entries, 0 to 5314\n",
      "Data columns (total 3 columns):\n",
      " #   Column       Non-Null Count  Dtype \n",
      "---  ------       --------------  ----- \n",
      " 0   date         5315 non-null   object\n",
      " 1   name         5315 non-null   object\n",
      " 2   transaction  5315 non-null   object\n",
      "dtypes: object(3)\n",
      "memory usage: 124.7+ KB\n"
     ]
    }
   ],
   "source": [
    "data.info()"
   ]
  },
  {
   "cell_type": "code",
   "execution_count": 6,
   "id": "36ce5bc4",
   "metadata": {},
   "outputs": [
    {
     "data": {
      "text/plain": [
       "date           object\n",
       "name           object\n",
       "transaction    object\n",
       "dtype: object"
      ]
     },
     "execution_count": 6,
     "metadata": {},
     "output_type": "execute_result"
    }
   ],
   "source": [
    "data.dtypes"
   ]
  },
  {
   "cell_type": "code",
   "execution_count": 7,
   "id": "a6d75565",
   "metadata": {},
   "outputs": [
    {
     "data": {
      "text/plain": [
       "date           0\n",
       "name           0\n",
       "transaction    0\n",
       "dtype: int64"
      ]
     },
     "execution_count": 7,
     "metadata": {},
     "output_type": "execute_result"
    }
   ],
   "source": [
    "data.isna().sum()"
   ]
  },
  {
   "cell_type": "code",
   "execution_count": 8,
   "id": "631885fb",
   "metadata": {},
   "outputs": [],
   "source": [
    "# Какие значения находятся в колонке transaction? Сколько наблюдений относятся к тому или иному уровню?\n",
    "# Визуализируйте результат с помощью барплота. Подумайте, как можно улучшить график."
   ]
  },
  {
   "cell_type": "code",
   "execution_count": 9,
   "id": "030471ca",
   "metadata": {},
   "outputs": [
    {
     "data": {
      "text/plain": [
       "transaction\n",
       "successfull    3692\n",
       "cancelled      1619\n",
       "error             4\n",
       "dtype: int64"
      ]
     },
     "execution_count": 9,
     "metadata": {},
     "output_type": "execute_result"
    }
   ],
   "source": [
    "# Количество транзакций\n",
    "data.value_counts('transaction')"
   ]
  },
  {
   "cell_type": "code",
   "execution_count": 10,
   "id": "44d3f844",
   "metadata": {},
   "outputs": [
    {
     "data": {
      "text/plain": [
       "transaction\n",
       "successfull    69.463782\n",
       "cancelled      30.460960\n",
       "error           0.075259\n",
       "dtype: float64"
      ]
     },
     "execution_count": 10,
     "metadata": {},
     "output_type": "execute_result"
    }
   ],
   "source": [
    "# Проценты транзакций\n",
    "transaction_per = data.value_counts('transaction',normalize=True)*100\n",
    "transaction_per"
   ]
  },
  {
   "cell_type": "code",
   "execution_count": 11,
   "id": "a4ab7a1c",
   "metadata": {},
   "outputs": [
    {
     "data": {
      "text/html": [
       "<div>\n",
       "<style scoped>\n",
       "    .dataframe tbody tr th:only-of-type {\n",
       "        vertical-align: middle;\n",
       "    }\n",
       "\n",
       "    .dataframe tbody tr th {\n",
       "        vertical-align: top;\n",
       "    }\n",
       "\n",
       "    .dataframe thead th {\n",
       "        text-align: right;\n",
       "    }\n",
       "</style>\n",
       "<table border=\"1\" class=\"dataframe\">\n",
       "  <thead>\n",
       "    <tr style=\"text-align: right;\">\n",
       "      <th></th>\n",
       "      <th>transaction</th>\n",
       "      <th>count_transaction</th>\n",
       "    </tr>\n",
       "  </thead>\n",
       "  <tbody>\n",
       "    <tr>\n",
       "      <th>2</th>\n",
       "      <td>successfull</td>\n",
       "      <td>3692</td>\n",
       "    </tr>\n",
       "    <tr>\n",
       "      <th>0</th>\n",
       "      <td>cancelled</td>\n",
       "      <td>1619</td>\n",
       "    </tr>\n",
       "    <tr>\n",
       "      <th>1</th>\n",
       "      <td>error</td>\n",
       "      <td>4</td>\n",
       "    </tr>\n",
       "  </tbody>\n",
       "</table>\n",
       "</div>"
      ],
      "text/plain": [
       "   transaction  count_transaction\n",
       "2  successfull               3692\n",
       "0    cancelled               1619\n",
       "1        error                  4"
      ]
     },
     "execution_count": 11,
     "metadata": {},
     "output_type": "execute_result"
    }
   ],
   "source": [
    "transaction_barplot = data.groupby('transaction', as_index=False)\\\n",
    "                            .agg({'name' :'count'})\\\n",
    "                            .rename(columns={'name' : 'count_transaction'})\\\n",
    "                            .sort_values('count_transaction', ascending=False)\n",
    "\n",
    "transaction_barplot"
   ]
  },
  {
   "cell_type": "code",
   "execution_count": 12,
   "id": "1c2bcfaa",
   "metadata": {},
   "outputs": [
    {
     "data": {
      "text/plain": [
       "<AxesSubplot:xlabel='transaction', ylabel='count_transaction'>"
      ]
     },
     "execution_count": 12,
     "metadata": {},
     "output_type": "execute_result"
    },
    {
     "data": {
      "image/png": "[encoded data removed]",
      "text/plain": [
       "<Figure size 640x480 with 1 Axes>"
      ]
     },
     "metadata": {},
     "output_type": "display_data"
    }
   ],
   "source": [
    "sns.barplot(data=transaction_barplot,x='transaction', y='count_transaction')"
   ]
  },
  {
   "cell_type": "code",
   "execution_count": 13,
   "id": "1939d25c",
   "metadata": {
    "scrolled": true
   },
   "outputs": [],
   "source": [
    "# transaction_countplot = sns.countplot(data.transaction, order=['successfull','cancelled','error'])\n",
    "# order = порядок значений на графике"
   ]
  },
  {
   "cell_type": "code",
   "execution_count": 14,
   "id": "4dfe096d",
   "metadata": {},
   "outputs": [
    {
     "data": {
      "text/plain": [
       "transaction\n",
       "successfull    3692\n",
       "cancelled      1619\n",
       "error             4\n",
       "dtype: int64"
      ]
     },
     "execution_count": 14,
     "metadata": {},
     "output_type": "execute_result"
    }
   ],
   "source": [
    "# Сколько транзакций завершились ошибкой?\n",
    "# Сколько успешных транзакций осуществил каждый из пользователей?\n",
    "\n",
    "data.value_counts('transaction')"
   ]
  },
  {
   "cell_type": "code",
   "execution_count": 15,
   "id": "08822380",
   "metadata": {},
   "outputs": [],
   "source": [
    "# Постройте гистограмму распределения числа успешных транзакций.\n",
    "# Осуществлёнными считаются транзакции со значением successfull"
   ]
  },
  {
   "cell_type": "code",
   "execution_count": 16,
   "id": "0dcc5b40",
   "metadata": {},
   "outputs": [],
   "source": [
    "# Посмотрите на характеристики распределения, а затем постройте гистограмму числа успешных транзакций,\n",
    "#совершённых каждым пользователем, где\n",
    "\n",
    "# по оси x – число транзакций\n",
    "# по оси y – доля пользователей с таким числом транзакций"
   ]
  },
  {
   "cell_type": "code",
   "execution_count": 17,
   "id": "5cb0090b",
   "metadata": {},
   "outputs": [
    {
     "data": {
      "text/html": [
       "<div>\n",
       "<style scoped>\n",
       "    .dataframe tbody tr th:only-of-type {\n",
       "        vertical-align: middle;\n",
       "    }\n",
       "\n",
       "    .dataframe tbody tr th {\n",
       "        vertical-align: top;\n",
       "    }\n",
       "\n",
       "    .dataframe thead th {\n",
       "        text-align: right;\n",
       "    }\n",
       "</style>\n",
       "<table border=\"1\" class=\"dataframe\">\n",
       "  <thead>\n",
       "    <tr style=\"text-align: right;\">\n",
       "      <th></th>\n",
       "      <th>name</th>\n",
       "      <th>transaction</th>\n",
       "    </tr>\n",
       "  </thead>\n",
       "  <tbody>\n",
       "    <tr>\n",
       "      <th>0</th>\n",
       "      <td>Ekaterina_Fedorova</td>\n",
       "      <td>72</td>\n",
       "    </tr>\n",
       "    <tr>\n",
       "      <th>1</th>\n",
       "      <td>Ekaterina_Ivanova</td>\n",
       "      <td>59</td>\n",
       "    </tr>\n",
       "    <tr>\n",
       "      <th>2</th>\n",
       "      <td>Ekaterina_Lesnova</td>\n",
       "      <td>63</td>\n",
       "    </tr>\n",
       "    <tr>\n",
       "      <th>3</th>\n",
       "      <td>Ekaterina_Ozerova</td>\n",
       "      <td>72</td>\n",
       "    </tr>\n",
       "    <tr>\n",
       "      <th>4</th>\n",
       "      <td>Ekaterina_Petrova</td>\n",
       "      <td>68</td>\n",
       "    </tr>\n",
       "  </tbody>\n",
       "</table>\n",
       "</div>"
      ],
      "text/plain": [
       "                 name  transaction\n",
       "0  Ekaterina_Fedorova           72\n",
       "1   Ekaterina_Ivanova           59\n",
       "2   Ekaterina_Lesnova           63\n",
       "3   Ekaterina_Ozerova           72\n",
       "4   Ekaterina_Petrova           68"
      ]
     },
     "execution_count": 17,
     "metadata": {},
     "output_type": "execute_result"
    }
   ],
   "source": [
    "successfull_transaction = data.query('transaction == \"successfull\"')\n",
    "\n",
    "successfull_transaction = successfull_transaction.groupby('name',as_index=False)\\\n",
    "                        .agg({'transaction' : 'count'})\n",
    "\n",
    "successfull_transaction.head()"
   ]
  },
  {
   "cell_type": "code",
   "execution_count": 18,
   "id": "a8ba154c",
   "metadata": {},
   "outputs": [
    {
     "data": {
      "text/html": [
       "<div>\n",
       "<style scoped>\n",
       "    .dataframe tbody tr th:only-of-type {\n",
       "        vertical-align: middle;\n",
       "    }\n",
       "\n",
       "    .dataframe tbody tr th {\n",
       "        vertical-align: top;\n",
       "    }\n",
       "\n",
       "    .dataframe thead th {\n",
       "        text-align: right;\n",
       "    }\n",
       "</style>\n",
       "<table border=\"1\" class=\"dataframe\">\n",
       "  <thead>\n",
       "    <tr style=\"text-align: right;\">\n",
       "      <th></th>\n",
       "      <th>transaction</th>\n",
       "    </tr>\n",
       "  </thead>\n",
       "  <tbody>\n",
       "    <tr>\n",
       "      <th>count</th>\n",
       "      <td>56.000000</td>\n",
       "    </tr>\n",
       "    <tr>\n",
       "      <th>mean</th>\n",
       "      <td>65.928571</td>\n",
       "    </tr>\n",
       "    <tr>\n",
       "      <th>std</th>\n",
       "      <td>7.787769</td>\n",
       "    </tr>\n",
       "    <tr>\n",
       "      <th>min</th>\n",
       "      <td>46.000000</td>\n",
       "    </tr>\n",
       "    <tr>\n",
       "      <th>25%</th>\n",
       "      <td>61.000000</td>\n",
       "    </tr>\n",
       "    <tr>\n",
       "      <th>50%</th>\n",
       "      <td>64.000000</td>\n",
       "    </tr>\n",
       "    <tr>\n",
       "      <th>75%</th>\n",
       "      <td>72.000000</td>\n",
       "    </tr>\n",
       "    <tr>\n",
       "      <th>max</th>\n",
       "      <td>82.000000</td>\n",
       "    </tr>\n",
       "  </tbody>\n",
       "</table>\n",
       "</div>"
      ],
      "text/plain": [
       "       transaction\n",
       "count    56.000000\n",
       "mean     65.928571\n",
       "std       7.787769\n",
       "min      46.000000\n",
       "25%      61.000000\n",
       "50%      64.000000\n",
       "75%      72.000000\n",
       "max      82.000000"
      ]
     },
     "execution_count": 18,
     "metadata": {},
     "output_type": "execute_result"
    }
   ],
   "source": [
    "successfull_transaction.describe()"
   ]
  },
  {
   "cell_type": "code",
   "execution_count": 19,
   "id": "506b37f4",
   "metadata": {},
   "outputs": [
    {
     "data": {
      "text/plain": [
       "<AxesSubplot:xlabel='transaction', ylabel='Count'>"
      ]
     },
     "execution_count": 19,
     "metadata": {},
     "output_type": "execute_result"
    },
    {
     "data": {
      "image/png": "[encoded data removed]",
      "text/plain": [
       "<Figure size 640x480 with 1 Axes>"
      ]
     },
     "metadata": {},
     "output_type": "display_data"
    }
   ],
   "source": [
    "sns.histplot(successfull_transaction.transaction)"
   ]
  },
  {
   "cell_type": "markdown",
   "id": "f20199a3",
   "metadata": {},
   "source": [
    "Пользователи в среднем совершили примерно по 66 транзакций\\\n",
    "Максимальное число транзакций – 82\\\n",
    "Примерно 25% пользователей совершили менее 61 транзакции"
   ]
  },
  {
   "cell_type": "code",
   "execution_count": 20,
   "id": "60505690",
   "metadata": {},
   "outputs": [],
   "source": [
    "# К вам пришёл коллега с немного обновленными данными. Постройте сводную таблицу user_vs_minute_pivot, где:\n",
    "\n",
    "# столбцы – имена пользователей\n",
    "# строки – минута времени осуществления операции (minute)\n",
    "# значения – число совершённых операций\n",
    "# Пропущенные значения заполните нулями.\n",
    "\n",
    "# Note: фильтровать успешные транзакции не нужно - постройте табличку по всем.\n",
    "\n",
    "# Новые данные сохранены в df."
   ]
  },
  {
   "cell_type": "code",
   "execution_count": 21,
   "id": "28de5600",
   "metadata": {},
   "outputs": [
    {
     "data": {
      "text/html": [
       "<div>\n",
       "<style scoped>\n",
       "    .dataframe tbody tr th:only-of-type {\n",
       "        vertical-align: middle;\n",
       "    }\n",
       "\n",
       "    .dataframe tbody tr th {\n",
       "        vertical-align: top;\n",
       "    }\n",
       "\n",
       "    .dataframe thead th {\n",
       "        text-align: right;\n",
       "    }\n",
       "</style>\n",
       "<table border=\"1\" class=\"dataframe\">\n",
       "  <thead>\n",
       "    <tr style=\"text-align: right;\">\n",
       "      <th></th>\n",
       "      <th>date</th>\n",
       "      <th>name</th>\n",
       "      <th>transaction</th>\n",
       "      <th>minute</th>\n",
       "    </tr>\n",
       "  </thead>\n",
       "  <tbody>\n",
       "    <tr>\n",
       "      <th>0</th>\n",
       "      <td>2020-03-02 00:37:20</td>\n",
       "      <td>Ekaterina_Petrova</td>\n",
       "      <td>cancelled</td>\n",
       "      <td>37</td>\n",
       "    </tr>\n",
       "    <tr>\n",
       "      <th>1</th>\n",
       "      <td>2020-03-02 00:59:09</td>\n",
       "      <td>Irina_Fedorova</td>\n",
       "      <td>successfull</td>\n",
       "      <td>59</td>\n",
       "    </tr>\n",
       "    <tr>\n",
       "      <th>2</th>\n",
       "      <td>2020-03-02 01:06:14</td>\n",
       "      <td>Ekaterina_Smirnova</td>\n",
       "      <td>successfull</td>\n",
       "      <td>6</td>\n",
       "    </tr>\n",
       "    <tr>\n",
       "      <th>3</th>\n",
       "      <td>2020-03-02 00:02:58</td>\n",
       "      <td>Lolita_Polyanova</td>\n",
       "      <td>cancelled</td>\n",
       "      <td>2</td>\n",
       "    </tr>\n",
       "    <tr>\n",
       "      <th>4</th>\n",
       "      <td>2020-03-02 00:17:52</td>\n",
       "      <td>Julia_Smirnova</td>\n",
       "      <td>cancelled</td>\n",
       "      <td>17</td>\n",
       "    </tr>\n",
       "  </tbody>\n",
       "</table>\n",
       "</div>"
      ],
      "text/plain": [
       "                  date                name  transaction  minute\n",
       "0  2020-03-02 00:37:20   Ekaterina_Petrova    cancelled      37\n",
       "1  2020-03-02 00:59:09      Irina_Fedorova  successfull      59\n",
       "2  2020-03-02 01:06:14  Ekaterina_Smirnova  successfull       6\n",
       "3  2020-03-02 00:02:58    Lolita_Polyanova    cancelled       2\n",
       "4  2020-03-02 00:17:52      Julia_Smirnova    cancelled      17"
      ]
     },
     "execution_count": 21,
     "metadata": {},
     "output_type": "execute_result"
    }
   ],
   "source": [
    "df = pd.read_csv('transaction_data_updated.csv')\n",
    "#df.isna().sum()\n",
    "df.fillna(0)\n",
    "df.head()"
   ]
  },
  {
   "cell_type": "code",
   "execution_count": 22,
   "id": "30c0343c",
   "metadata": {},
   "outputs": [
    {
     "data": {
      "text/plain": [
       "<AxesSubplot:xlabel='minute', ylabel='transaction'>"
      ]
     },
     "execution_count": 22,
     "metadata": {},
     "output_type": "execute_result"
    },
    {
     "data": {
      "image/png": "[encoded data removed]",
      "text/plain": [
       "<Figure size 1500x1000 with 1 Axes>"
      ]
     },
     "metadata": {},
     "output_type": "display_data"
    }
   ],
   "source": [
    "user_vs_minute_pivot = df.groupby('minute', as_index=False)\\\n",
    "                        .agg({'transaction' : 'count'})\\\n",
    "\n",
    "plt.figure(figsize=(15,10))\n",
    "sns.barplot(data=user_vs_minute_pivot,x='minute', y='transaction')"
   ]
  },
  {
   "cell_type": "code",
   "execution_count": 23,
   "id": "478445d4",
   "metadata": {},
   "outputs": [
    {
     "data": {
      "text/html": [
       "<div>\n",
       "<style scoped>\n",
       "    .dataframe tbody tr th:only-of-type {\n",
       "        vertical-align: middle;\n",
       "    }\n",
       "\n",
       "    .dataframe tbody tr th {\n",
       "        vertical-align: top;\n",
       "    }\n",
       "\n",
       "    .dataframe thead th {\n",
       "        text-align: right;\n",
       "    }\n",
       "</style>\n",
       "<table border=\"1\" class=\"dataframe\">\n",
       "  <thead>\n",
       "    <tr style=\"text-align: right;\">\n",
       "      <th>name</th>\n",
       "      <th>Ekaterina_Fedorova</th>\n",
       "      <th>Ekaterina_Ivanova</th>\n",
       "      <th>Ekaterina_Lesnova</th>\n",
       "      <th>Ekaterina_Ozerova</th>\n",
       "      <th>Ekaterina_Petrova</th>\n",
       "      <th>Ekaterina_Polyanova</th>\n",
       "      <th>Ekaterina_Smirnova</th>\n",
       "      <th>Irina_Fedorova</th>\n",
       "      <th>Irina_Ivanova</th>\n",
       "      <th>Irina_Lesnova</th>\n",
       "      <th>...</th>\n",
       "      <th>Svetlana_Petrova</th>\n",
       "      <th>Svetlana_Polyanova</th>\n",
       "      <th>Svetlana_Smirnova</th>\n",
       "      <th>Vasilisa_Fedorova</th>\n",
       "      <th>Vasilisa_Ivanova</th>\n",
       "      <th>Vasilisa_Lesnova</th>\n",
       "      <th>Vasilisa_Ozerova</th>\n",
       "      <th>Vasilisa_Petrova</th>\n",
       "      <th>Vasilisa_Polyanova</th>\n",
       "      <th>Vasilisa_Smirnova</th>\n",
       "    </tr>\n",
       "    <tr>\n",
       "      <th>minute</th>\n",
       "      <th></th>\n",
       "      <th></th>\n",
       "      <th></th>\n",
       "      <th></th>\n",
       "      <th></th>\n",
       "      <th></th>\n",
       "      <th></th>\n",
       "      <th></th>\n",
       "      <th></th>\n",
       "      <th></th>\n",
       "      <th></th>\n",
       "      <th></th>\n",
       "      <th></th>\n",
       "      <th></th>\n",
       "      <th></th>\n",
       "      <th></th>\n",
       "      <th></th>\n",
       "      <th></th>\n",
       "      <th></th>\n",
       "      <th></th>\n",
       "      <th></th>\n",
       "    </tr>\n",
       "  </thead>\n",
       "  <tbody>\n",
       "    <tr>\n",
       "      <th>0</th>\n",
       "      <td>3.0</td>\n",
       "      <td>4.0</td>\n",
       "      <td>2.0</td>\n",
       "      <td>3.0</td>\n",
       "      <td>4.0</td>\n",
       "      <td>4.0</td>\n",
       "      <td>2.0</td>\n",
       "      <td>1.0</td>\n",
       "      <td>2.0</td>\n",
       "      <td>2.0</td>\n",
       "      <td>...</td>\n",
       "      <td>0.0</td>\n",
       "      <td>3.0</td>\n",
       "      <td>1.0</td>\n",
       "      <td>1.0</td>\n",
       "      <td>4.0</td>\n",
       "      <td>1.0</td>\n",
       "      <td>3.0</td>\n",
       "      <td>0.0</td>\n",
       "      <td>0.0</td>\n",
       "      <td>1.0</td>\n",
       "    </tr>\n",
       "    <tr>\n",
       "      <th>1</th>\n",
       "      <td>4.0</td>\n",
       "      <td>4.0</td>\n",
       "      <td>0.0</td>\n",
       "      <td>4.0</td>\n",
       "      <td>2.0</td>\n",
       "      <td>5.0</td>\n",
       "      <td>4.0</td>\n",
       "      <td>4.0</td>\n",
       "      <td>4.0</td>\n",
       "      <td>3.0</td>\n",
       "      <td>...</td>\n",
       "      <td>4.0</td>\n",
       "      <td>5.0</td>\n",
       "      <td>3.0</td>\n",
       "      <td>2.0</td>\n",
       "      <td>3.0</td>\n",
       "      <td>3.0</td>\n",
       "      <td>0.0</td>\n",
       "      <td>0.0</td>\n",
       "      <td>3.0</td>\n",
       "      <td>2.0</td>\n",
       "    </tr>\n",
       "    <tr>\n",
       "      <th>2</th>\n",
       "      <td>1.0</td>\n",
       "      <td>2.0</td>\n",
       "      <td>4.0</td>\n",
       "      <td>4.0</td>\n",
       "      <td>2.0</td>\n",
       "      <td>1.0</td>\n",
       "      <td>3.0</td>\n",
       "      <td>2.0</td>\n",
       "      <td>3.0</td>\n",
       "      <td>3.0</td>\n",
       "      <td>...</td>\n",
       "      <td>4.0</td>\n",
       "      <td>1.0</td>\n",
       "      <td>3.0</td>\n",
       "      <td>3.0</td>\n",
       "      <td>0.0</td>\n",
       "      <td>1.0</td>\n",
       "      <td>2.0</td>\n",
       "      <td>1.0</td>\n",
       "      <td>3.0</td>\n",
       "      <td>1.0</td>\n",
       "    </tr>\n",
       "    <tr>\n",
       "      <th>3</th>\n",
       "      <td>3.0</td>\n",
       "      <td>0.0</td>\n",
       "      <td>2.0</td>\n",
       "      <td>0.0</td>\n",
       "      <td>5.0</td>\n",
       "      <td>2.0</td>\n",
       "      <td>1.0</td>\n",
       "      <td>3.0</td>\n",
       "      <td>2.0</td>\n",
       "      <td>2.0</td>\n",
       "      <td>...</td>\n",
       "      <td>1.0</td>\n",
       "      <td>5.0</td>\n",
       "      <td>5.0</td>\n",
       "      <td>2.0</td>\n",
       "      <td>4.0</td>\n",
       "      <td>0.0</td>\n",
       "      <td>3.0</td>\n",
       "      <td>4.0</td>\n",
       "      <td>1.0</td>\n",
       "      <td>0.0</td>\n",
       "    </tr>\n",
       "    <tr>\n",
       "      <th>4</th>\n",
       "      <td>3.0</td>\n",
       "      <td>0.0</td>\n",
       "      <td>0.0</td>\n",
       "      <td>3.0</td>\n",
       "      <td>1.0</td>\n",
       "      <td>1.0</td>\n",
       "      <td>2.0</td>\n",
       "      <td>3.0</td>\n",
       "      <td>2.0</td>\n",
       "      <td>1.0</td>\n",
       "      <td>...</td>\n",
       "      <td>1.0</td>\n",
       "      <td>2.0</td>\n",
       "      <td>2.0</td>\n",
       "      <td>1.0</td>\n",
       "      <td>1.0</td>\n",
       "      <td>2.0</td>\n",
       "      <td>2.0</td>\n",
       "      <td>3.0</td>\n",
       "      <td>0.0</td>\n",
       "      <td>1.0</td>\n",
       "    </tr>\n",
       "  </tbody>\n",
       "</table>\n",
       "<p>5 rows × 56 columns</p>\n",
       "</div>"
      ],
      "text/plain": [
       "name    Ekaterina_Fedorova  Ekaterina_Ivanova  Ekaterina_Lesnova  \\\n",
       "minute                                                             \n",
       "0                      3.0                4.0                2.0   \n",
       "1                      4.0                4.0                0.0   \n",
       "2                      1.0                2.0                4.0   \n",
       "3                      3.0                0.0                2.0   \n",
       "4                      3.0                0.0                0.0   \n",
       "\n",
       "name    Ekaterina_Ozerova  Ekaterina_Petrova  Ekaterina_Polyanova  \\\n",
       "minute                                                              \n",
       "0                     3.0                4.0                  4.0   \n",
       "1                     4.0                2.0                  5.0   \n",
       "2                     4.0                2.0                  1.0   \n",
       "3                     0.0                5.0                  2.0   \n",
       "4                     3.0                1.0                  1.0   \n",
       "\n",
       "name    Ekaterina_Smirnova  Irina_Fedorova  Irina_Ivanova  Irina_Lesnova  ...  \\\n",
       "minute                                                                    ...   \n",
       "0                      2.0             1.0            2.0            2.0  ...   \n",
       "1                      4.0             4.0            4.0            3.0  ...   \n",
       "2                      3.0             2.0            3.0            3.0  ...   \n",
       "3                      1.0             3.0            2.0            2.0  ...   \n",
       "4                      2.0             3.0            2.0            1.0  ...   \n",
       "\n",
       "name    Svetlana_Petrova  Svetlana_Polyanova  Svetlana_Smirnova  \\\n",
       "minute                                                            \n",
       "0                    0.0                 3.0                1.0   \n",
       "1                    4.0                 5.0                3.0   \n",
       "2                    4.0                 1.0                3.0   \n",
       "3                    1.0                 5.0                5.0   \n",
       "4                    1.0                 2.0                2.0   \n",
       "\n",
       "name    Vasilisa_Fedorova  Vasilisa_Ivanova  Vasilisa_Lesnova  \\\n",
       "minute                                                          \n",
       "0                     1.0               4.0               1.0   \n",
       "1                     2.0               3.0               3.0   \n",
       "2                     3.0               0.0               1.0   \n",
       "3                     2.0               4.0               0.0   \n",
       "4                     1.0               1.0               2.0   \n",
       "\n",
       "name    Vasilisa_Ozerova  Vasilisa_Petrova  Vasilisa_Polyanova  \\\n",
       "minute                                                           \n",
       "0                    3.0               0.0                 0.0   \n",
       "1                    0.0               0.0                 3.0   \n",
       "2                    2.0               1.0                 3.0   \n",
       "3                    3.0               4.0                 1.0   \n",
       "4                    2.0               3.0                 0.0   \n",
       "\n",
       "name    Vasilisa_Smirnova  \n",
       "minute                     \n",
       "0                     1.0  \n",
       "1                     2.0  \n",
       "2                     1.0  \n",
       "3                     0.0  \n",
       "4                     1.0  \n",
       "\n",
       "[5 rows x 56 columns]"
      ]
     },
     "execution_count": 23,
     "metadata": {},
     "output_type": "execute_result"
    }
   ],
   "source": [
    "user_vs_minute_pivot = df.groupby(['name', 'minute'], as_index=False)\\\n",
    "                        .agg({'transaction' : 'count'})\\\n",
    "                        .pivot(index='minute',columns='name',values='transaction')\\\n",
    "                        .fillna(0)\n",
    "user_vs_minute_pivot.head()"
   ]
  },
  {
   "cell_type": "code",
   "execution_count": 24,
   "id": "151e41ae",
   "metadata": {},
   "outputs": [],
   "source": [
    "# Исправьте ошибку коллеги (если она есть 😉), и посчитайте число минут, прошедших с начала дня.\n",
    "# Результат сохраните в колонку true_minute.\n",
    "# Постройте график, как в предыдущем шаге, и посмотрите, произошли ли изменения (график в код включать не нужно).\n",
    "\n",
    "# Например:\n",
    "# date                name               transaction  minute  true_minute\n",
    "# 2020-03-02 00:37:20 Ekaterina_Petrova  cancelled    37      37\n",
    "# 2020-03-02 01:06:14 Ekaterina_Smirnova successfull  6       66\n",
    "\n",
    "        \n",
    "# Данные записаны в df , колонка date прочитана как дата."
   ]
  },
  {
   "cell_type": "code",
   "execution_count": 25,
   "id": "d96bd2b7",
   "metadata": {},
   "outputs": [
    {
     "data": {
      "text/plain": [
       "date           object\n",
       "name           object\n",
       "transaction    object\n",
       "minute          int64\n",
       "dtype: object"
      ]
     },
     "execution_count": 25,
     "metadata": {},
     "output_type": "execute_result"
    }
   ],
   "source": [
    "df.dtypes"
   ]
  },
  {
   "cell_type": "code",
   "execution_count": 26,
   "id": "609087ac",
   "metadata": {},
   "outputs": [
    {
     "data": {
      "text/html": [
       "<div>\n",
       "<style scoped>\n",
       "    .dataframe tbody tr th:only-of-type {\n",
       "        vertical-align: middle;\n",
       "    }\n",
       "\n",
       "    .dataframe tbody tr th {\n",
       "        vertical-align: top;\n",
       "    }\n",
       "\n",
       "    .dataframe thead th {\n",
       "        text-align: right;\n",
       "    }\n",
       "</style>\n",
       "<table border=\"1\" class=\"dataframe\">\n",
       "  <thead>\n",
       "    <tr style=\"text-align: right;\">\n",
       "      <th></th>\n",
       "      <th>date</th>\n",
       "      <th>name</th>\n",
       "      <th>transaction</th>\n",
       "      <th>minute</th>\n",
       "    </tr>\n",
       "  </thead>\n",
       "  <tbody>\n",
       "    <tr>\n",
       "      <th>0</th>\n",
       "      <td>2020-03-02 00:37:20</td>\n",
       "      <td>Ekaterina_Petrova</td>\n",
       "      <td>cancelled</td>\n",
       "      <td>37</td>\n",
       "    </tr>\n",
       "    <tr>\n",
       "      <th>1</th>\n",
       "      <td>2020-03-02 00:59:09</td>\n",
       "      <td>Irina_Fedorova</td>\n",
       "      <td>successfull</td>\n",
       "      <td>59</td>\n",
       "    </tr>\n",
       "    <tr>\n",
       "      <th>2</th>\n",
       "      <td>2020-03-02 01:06:14</td>\n",
       "      <td>Ekaterina_Smirnova</td>\n",
       "      <td>successfull</td>\n",
       "      <td>6</td>\n",
       "    </tr>\n",
       "    <tr>\n",
       "      <th>3</th>\n",
       "      <td>2020-03-02 00:02:58</td>\n",
       "      <td>Lolita_Polyanova</td>\n",
       "      <td>cancelled</td>\n",
       "      <td>2</td>\n",
       "    </tr>\n",
       "    <tr>\n",
       "      <th>4</th>\n",
       "      <td>2020-03-02 00:17:52</td>\n",
       "      <td>Julia_Smirnova</td>\n",
       "      <td>cancelled</td>\n",
       "      <td>17</td>\n",
       "    </tr>\n",
       "    <tr>\n",
       "      <th>...</th>\n",
       "      <td>...</td>\n",
       "      <td>...</td>\n",
       "      <td>...</td>\n",
       "      <td>...</td>\n",
       "    </tr>\n",
       "    <tr>\n",
       "      <th>5310</th>\n",
       "      <td>2020-03-02 00:09:28</td>\n",
       "      <td>Vasilisa_Fedorova</td>\n",
       "      <td>successfull</td>\n",
       "      <td>9</td>\n",
       "    </tr>\n",
       "    <tr>\n",
       "      <th>5311</th>\n",
       "      <td>2020-03-02 00:46:31</td>\n",
       "      <td>Vasilisa_Ozerova</td>\n",
       "      <td>successfull</td>\n",
       "      <td>46</td>\n",
       "    </tr>\n",
       "    <tr>\n",
       "      <th>5312</th>\n",
       "      <td>2020-03-02 00:16:38</td>\n",
       "      <td>Olga_Polyanova</td>\n",
       "      <td>successfull</td>\n",
       "      <td>16</td>\n",
       "    </tr>\n",
       "    <tr>\n",
       "      <th>5313</th>\n",
       "      <td>2020-03-02 00:13:00</td>\n",
       "      <td>Ekaterina_Smirnova</td>\n",
       "      <td>successfull</td>\n",
       "      <td>13</td>\n",
       "    </tr>\n",
       "    <tr>\n",
       "      <th>5314</th>\n",
       "      <td>2020-03-02 01:15:45</td>\n",
       "      <td>Irina_Fedorova</td>\n",
       "      <td>cancelled</td>\n",
       "      <td>15</td>\n",
       "    </tr>\n",
       "  </tbody>\n",
       "</table>\n",
       "<p>5315 rows × 4 columns</p>\n",
       "</div>"
      ],
      "text/plain": [
       "                     date                name  transaction  minute\n",
       "0     2020-03-02 00:37:20   Ekaterina_Petrova    cancelled      37\n",
       "1     2020-03-02 00:59:09      Irina_Fedorova  successfull      59\n",
       "2     2020-03-02 01:06:14  Ekaterina_Smirnova  successfull       6\n",
       "3     2020-03-02 00:02:58    Lolita_Polyanova    cancelled       2\n",
       "4     2020-03-02 00:17:52      Julia_Smirnova    cancelled      17\n",
       "...                   ...                 ...          ...     ...\n",
       "5310  2020-03-02 00:09:28   Vasilisa_Fedorova  successfull       9\n",
       "5311  2020-03-02 00:46:31    Vasilisa_Ozerova  successfull      46\n",
       "5312  2020-03-02 00:16:38      Olga_Polyanova  successfull      16\n",
       "5313  2020-03-02 00:13:00  Ekaterina_Smirnova  successfull      13\n",
       "5314  2020-03-02 01:15:45      Irina_Fedorova    cancelled      15\n",
       "\n",
       "[5315 rows x 4 columns]"
      ]
     },
     "execution_count": 26,
     "metadata": {},
     "output_type": "execute_result"
    }
   ],
   "source": [
    "df"
   ]
  },
  {
   "cell_type": "code",
   "execution_count": 27,
   "id": "b66e39ba",
   "metadata": {},
   "outputs": [],
   "source": [
    "df['date'] = pd.to_datetime(df['date'])"
   ]
  },
  {
   "cell_type": "code",
   "execution_count": 28,
   "id": "2b48c4e4",
   "metadata": {},
   "outputs": [
    {
     "data": {
      "text/html": [
       "<div>\n",
       "<style scoped>\n",
       "    .dataframe tbody tr th:only-of-type {\n",
       "        vertical-align: middle;\n",
       "    }\n",
       "\n",
       "    .dataframe tbody tr th {\n",
       "        vertical-align: top;\n",
       "    }\n",
       "\n",
       "    .dataframe thead th {\n",
       "        text-align: right;\n",
       "    }\n",
       "</style>\n",
       "<table border=\"1\" class=\"dataframe\">\n",
       "  <thead>\n",
       "    <tr style=\"text-align: right;\">\n",
       "      <th></th>\n",
       "      <th>date</th>\n",
       "      <th>name</th>\n",
       "      <th>transaction</th>\n",
       "      <th>minute</th>\n",
       "      <th>hours</th>\n",
       "      <th>true_minute</th>\n",
       "    </tr>\n",
       "  </thead>\n",
       "  <tbody>\n",
       "    <tr>\n",
       "      <th>0</th>\n",
       "      <td>2020-03-02 00:37:20</td>\n",
       "      <td>Ekaterina_Petrova</td>\n",
       "      <td>cancelled</td>\n",
       "      <td>37</td>\n",
       "      <td>0</td>\n",
       "      <td>37</td>\n",
       "    </tr>\n",
       "    <tr>\n",
       "      <th>1</th>\n",
       "      <td>2020-03-02 00:59:09</td>\n",
       "      <td>Irina_Fedorova</td>\n",
       "      <td>successfull</td>\n",
       "      <td>59</td>\n",
       "      <td>0</td>\n",
       "      <td>59</td>\n",
       "    </tr>\n",
       "    <tr>\n",
       "      <th>2</th>\n",
       "      <td>2020-03-02 01:06:14</td>\n",
       "      <td>Ekaterina_Smirnova</td>\n",
       "      <td>successfull</td>\n",
       "      <td>6</td>\n",
       "      <td>1</td>\n",
       "      <td>66</td>\n",
       "    </tr>\n",
       "    <tr>\n",
       "      <th>3</th>\n",
       "      <td>2020-03-02 00:02:58</td>\n",
       "      <td>Lolita_Polyanova</td>\n",
       "      <td>cancelled</td>\n",
       "      <td>2</td>\n",
       "      <td>0</td>\n",
       "      <td>2</td>\n",
       "    </tr>\n",
       "    <tr>\n",
       "      <th>4</th>\n",
       "      <td>2020-03-02 00:17:52</td>\n",
       "      <td>Julia_Smirnova</td>\n",
       "      <td>cancelled</td>\n",
       "      <td>17</td>\n",
       "      <td>0</td>\n",
       "      <td>17</td>\n",
       "    </tr>\n",
       "    <tr>\n",
       "      <th>...</th>\n",
       "      <td>...</td>\n",
       "      <td>...</td>\n",
       "      <td>...</td>\n",
       "      <td>...</td>\n",
       "      <td>...</td>\n",
       "      <td>...</td>\n",
       "    </tr>\n",
       "    <tr>\n",
       "      <th>5310</th>\n",
       "      <td>2020-03-02 00:09:28</td>\n",
       "      <td>Vasilisa_Fedorova</td>\n",
       "      <td>successfull</td>\n",
       "      <td>9</td>\n",
       "      <td>0</td>\n",
       "      <td>9</td>\n",
       "    </tr>\n",
       "    <tr>\n",
       "      <th>5311</th>\n",
       "      <td>2020-03-02 00:46:31</td>\n",
       "      <td>Vasilisa_Ozerova</td>\n",
       "      <td>successfull</td>\n",
       "      <td>46</td>\n",
       "      <td>0</td>\n",
       "      <td>46</td>\n",
       "    </tr>\n",
       "    <tr>\n",
       "      <th>5312</th>\n",
       "      <td>2020-03-02 00:16:38</td>\n",
       "      <td>Olga_Polyanova</td>\n",
       "      <td>successfull</td>\n",
       "      <td>16</td>\n",
       "      <td>0</td>\n",
       "      <td>16</td>\n",
       "    </tr>\n",
       "    <tr>\n",
       "      <th>5313</th>\n",
       "      <td>2020-03-02 00:13:00</td>\n",
       "      <td>Ekaterina_Smirnova</td>\n",
       "      <td>successfull</td>\n",
       "      <td>13</td>\n",
       "      <td>0</td>\n",
       "      <td>13</td>\n",
       "    </tr>\n",
       "    <tr>\n",
       "      <th>5314</th>\n",
       "      <td>2020-03-02 01:15:45</td>\n",
       "      <td>Irina_Fedorova</td>\n",
       "      <td>cancelled</td>\n",
       "      <td>15</td>\n",
       "      <td>1</td>\n",
       "      <td>75</td>\n",
       "    </tr>\n",
       "  </tbody>\n",
       "</table>\n",
       "<p>5315 rows × 6 columns</p>\n",
       "</div>"
      ],
      "text/plain": [
       "                    date                name  transaction  minute  hours  \\\n",
       "0    2020-03-02 00:37:20   Ekaterina_Petrova    cancelled      37      0   \n",
       "1    2020-03-02 00:59:09      Irina_Fedorova  successfull      59      0   \n",
       "2    2020-03-02 01:06:14  Ekaterina_Smirnova  successfull       6      1   \n",
       "3    2020-03-02 00:02:58    Lolita_Polyanova    cancelled       2      0   \n",
       "4    2020-03-02 00:17:52      Julia_Smirnova    cancelled      17      0   \n",
       "...                  ...                 ...          ...     ...    ...   \n",
       "5310 2020-03-02 00:09:28   Vasilisa_Fedorova  successfull       9      0   \n",
       "5311 2020-03-02 00:46:31    Vasilisa_Ozerova  successfull      46      0   \n",
       "5312 2020-03-02 00:16:38      Olga_Polyanova  successfull      16      0   \n",
       "5313 2020-03-02 00:13:00  Ekaterina_Smirnova  successfull      13      0   \n",
       "5314 2020-03-02 01:15:45      Irina_Fedorova    cancelled      15      1   \n",
       "\n",
       "      true_minute  \n",
       "0              37  \n",
       "1              59  \n",
       "2              66  \n",
       "3               2  \n",
       "4              17  \n",
       "...           ...  \n",
       "5310            9  \n",
       "5311           46  \n",
       "5312           16  \n",
       "5313           13  \n",
       "5314           75  \n",
       "\n",
       "[5315 rows x 6 columns]"
      ]
     },
     "execution_count": 28,
     "metadata": {},
     "output_type": "execute_result"
    }
   ],
   "source": [
    "df['hours'] = df['date'].dt.hour\n",
    "df['true_minute'] = df['hours']*60 + df['minute']\n",
    "df\n",
    "\n",
    "#df['true_minute'] = df['date'].dt.hour*60 + df['minute']\n",
    "#Альтернативный вариант"
   ]
  },
  {
   "cell_type": "code",
   "execution_count": 31,
   "id": "2d299dbf",
   "metadata": {},
   "outputs": [
    {
     "data": {
      "text/plain": [
       "<AxesSubplot:xlabel='true_minute', ylabel='transaction'>"
      ]
     },
     "execution_count": 31,
     "metadata": {},
     "output_type": "execute_result"
    },
    {
     "data": {
      "image/png": "[encoded data removed]",
      "text/plain": [
       "<Figure size 2000x1000 with 1 Axes>"
      ]
     },
     "metadata": {},
     "output_type": "display_data"
    }
   ],
   "source": [
    "user_vs_minute_pivot_2 = df.groupby('true_minute', as_index=False)\\\n",
    "                        .agg({'transaction' : 'count'})\\\n",
    "\n",
    "plt.figure(figsize=(20,10))\n",
    "sns.barplot(data=user_vs_minute_pivot_2,x='true_minute', y='transaction')\n"
   ]
  },
  {
   "cell_type": "code",
   "execution_count": null,
   "id": "ae66423a",
   "metadata": {},
   "outputs": [],
   "source": []
  }
 ],
 "metadata": {
  "kernelspec": {
   "display_name": "Python 3 (ipykernel)",
   "language": "python",
   "name": "python3"
  },
  "language_info": {
   "codemirror_mode": {
    "name": "ipython",
    "version": 3
   },
   "file_extension": ".py",
   "mimetype": "text/x-python",
   "name": "python",
   "nbconvert_exporter": "python",
   "pygments_lexer": "ipython3",
   "version": "3.9.13"
  },
  "toc": {
   "base_numbering": 1,
   "nav_menu": {},
   "number_sections": true,
   "sideBar": true,
   "skip_h1_title": true,
   "title_cell": "Table of Contents",
   "title_sidebar": "Contents",
   "toc_cell": true,
   "toc_position": {},
   "toc_section_display": true,
   "toc_window_display": false
  }
 },
 "nbformat": 4,
 "nbformat_minor": 5
}
